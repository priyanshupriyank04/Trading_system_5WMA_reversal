{
  "nbformat": 4,
  "nbformat_minor": 0,
  "metadata": {
    "colab": {
      "provenance": [],
      "authorship_tag": "ABX9TyNhPUa5SVgpaI9TefjV5YMw",
      "include_colab_link": true
    },
    "kernelspec": {
      "name": "python3",
      "display_name": "Python 3"
    },
    "language_info": {
      "name": "python"
    }
  },
  "cells": [
    {
      "cell_type": "markdown",
      "metadata": {
        "id": "view-in-github",
        "colab_type": "text"
      },
      "source": [
        "<a href=\"https://colab.research.google.com/github/priyanshupriyank04/Trading_system_5WMA_reversal/blob/main/5wma_reversal_nifty50.ipynb\" target=\"_parent\"><img src=\"https://colab.research.google.com/assets/colab-badge.svg\" alt=\"Open In Colab\"/></a>"
      ]
    },
    {
      "cell_type": "code",
      "source": [
        "# Install missing libraries\n",
        "!pip install --quiet kiteconnect pandas matplotlib numpy\n",
        "\n",
        "# For data handling and manipulation\n",
        "import pandas as pd\n",
        "import numpy as np\n",
        "\n",
        "# For working with dates and times\n",
        "from datetime import datetime, timedelta\n",
        "\n",
        "# For connecting to Kite API\n",
        "from kiteconnect import KiteConnect\n",
        "\n",
        "# For managing and storing data in Google Drive\n",
        "from google.colab import drive\n",
        "\n",
        "# For data visualization (optional, useful during backtesting analysis)\n",
        "import matplotlib.pyplot as plt\n",
        "\n",
        "# Mount Google Drive for persistent storage\n",
        "drive.mount('/content/drive', force_remount=True)\n",
        "\n",
        "print(\"All libraries installed and imported successfully!\")"
      ],
      "metadata": {
        "colab": {
          "base_uri": "https://localhost:8080/"
        },
        "id": "JuRo6Sp956J6",
        "outputId": "f99c533a-8ea8-487c-e447-a6fbeb88b4df"
      },
      "execution_count": 2,
      "outputs": [
        {
          "output_type": "stream",
          "name": "stdout",
          "text": [
            "\u001b[2K     \u001b[90m━━━━━━━━━━━━━━━━━━━━━━━━━━━━━━━━━━━━━━━━\u001b[0m \u001b[32m44.4/44.4 kB\u001b[0m \u001b[31m3.3 MB/s\u001b[0m eta \u001b[36m0:00:00\u001b[0m\n",
            "\u001b[2K   \u001b[90m━━━━━━━━━━━━━━━━━━━━━━━━━━━━━━━━━━━━━━━━\u001b[0m \u001b[32m771.5/771.5 kB\u001b[0m \u001b[31m24.3 MB/s\u001b[0m eta \u001b[36m0:00:00\u001b[0m\n",
            "\u001b[2K   \u001b[90m━━━━━━━━━━━━━━━━━━━━━━━━━━━━━━━━━━━━━━━━\u001b[0m \u001b[32m3.2/3.2 MB\u001b[0m \u001b[31m69.8 MB/s\u001b[0m eta \u001b[36m0:00:00\u001b[0m\n",
            "\u001b[2K   \u001b[90m━━━━━━━━━━━━━━━━━━━━━━━━━━━━━━━━━━━━━━━━\u001b[0m \u001b[32m254.5/254.5 kB\u001b[0m \u001b[31m21.8 MB/s\u001b[0m eta \u001b[36m0:00:00\u001b[0m\n",
            "\u001b[2K   \u001b[90m━━━━━━━━━━━━━━━━━━━━━━━━━━━━━━━━━━━━━━━━\u001b[0m \u001b[32m42.6/42.6 kB\u001b[0m \u001b[31m3.6 MB/s\u001b[0m eta \u001b[36m0:00:00\u001b[0m\n",
            "\u001b[2K   \u001b[90m━━━━━━━━━━━━━━━━━━━━━━━━━━━━━━━━━━━━━━━━\u001b[0m \u001b[32m74.6/74.6 kB\u001b[0m \u001b[31m5.8 MB/s\u001b[0m eta \u001b[36m0:00:00\u001b[0m\n",
            "\u001b[?25hMounted at /content/drive\n",
            "All libraries installed and imported successfully!\n"
          ]
        }
      ]
    },
    {
      "cell_type": "markdown",
      "source": [
        "Access and request token"
      ],
      "metadata": {
        "id": "YrcdGspe7upR"
      }
    },
    {
      "cell_type": "code",
      "source": [
        "API_KEY = \"8re7mjcm2btaozwf\"\n",
        "API_SECRET = \"fw8gm7wfeclcic9rlkp0tbzx4h2ss2n1\"\n",
        "REDIRECT_URL = \"https://example.com\"\n",
        "\n",
        "\n",
        "kite = KiteConnect(api_key=API_KEY)\n",
        "\n",
        "\n",
        "login_url = kite.login_url()\n",
        "print(f\"Login to your Kite account using this URL: {login_url}\")\n",
        "\n",
        "\n",
        "request_token = input(\"Paste the request token from the URL here: \")\n",
        "\n",
        "\n",
        "try:\n",
        "    data = kite.generate_session(request_token=request_token, api_secret=API_SECRET)\n",
        "    access_token = data[\"access_token\"]\n",
        "    print(f\"Access Token: {access_token}\")\n",
        "\n",
        "\n",
        "    kite.set_access_token(access_token)\n",
        "    print(\"Kite Connect is now initialized and ready to use!\")\n",
        "except Exception as e:\n",
        "    print(f\"Error generating access token: {e}\")"
      ],
      "metadata": {
        "colab": {
          "base_uri": "https://localhost:8080/"
        },
        "id": "iPD-XVVr72yR",
        "outputId": "93ee31c9-a7bf-4bcc-eb26-6777fe6d3cfd"
      },
      "execution_count": 20,
      "outputs": [
        {
          "output_type": "stream",
          "name": "stdout",
          "text": [
            "Login to your Kite account using this URL: https://kite.zerodha.com/connect/login?api_key=8re7mjcm2btaozwf&v=3\n",
            "Paste the request token from the URL here: mPaczi8qkegIw7A5iCY95csPoc9Cm0OD\n",
            "Access Token: m1kDlJt22DbmP72boONZ6HipJpVWj8Ai\n",
            "Kite Connect is now initialized and ready to use!\n"
          ]
        }
      ]
    },
    {
      "cell_type": "code",
      "source": [
        "def get_instrument_token(kite, tradingsymbol=\"NIFTY\", exchange=\"NSE\"):\n",
        "    try:\n",
        "        # Fetch all instruments for the given exchange\n",
        "        instruments = kite.instruments(exchange)\n",
        "\n",
        "        # Loop through the instruments and find the matching trading symbol\n",
        "        for instrument in instruments:\n",
        "            if instrument['tradingsymbol'] == tradingsymbol:\n",
        "                print(f\"Instrument Token for {tradingsymbol}: {instrument['instrument_token']}\")\n",
        "                return instrument['instrument_token']\n",
        "\n",
        "        print(f\"Instrument Token for {tradingsymbol} not found.\")\n",
        "        return None\n",
        "    except Exception as e:\n",
        "        print(f\"Error fetching instrument token: {e}\")\n",
        "        return None\n",
        "\n",
        "# Example Usage\n",
        "nifty50_token = get_instrument_token(kite, tradingsymbol=\"NIFTY 50\", exchange=\"NSE\")"
      ],
      "metadata": {
        "colab": {
          "base_uri": "https://localhost:8080/"
        },
        "id": "f42RUnfx-D15",
        "outputId": "4ee28a0c-b2d3-44b2-ef2d-610919012a24"
      },
      "execution_count": 21,
      "outputs": [
        {
          "output_type": "stream",
          "name": "stdout",
          "text": [
            "Instrument Token for NIFTY 50: 256265\n"
          ]
        }
      ]
    },
    {
      "cell_type": "markdown",
      "source": [
        "Fetch data & save to csv file in drive"
      ],
      "metadata": {
        "id": "rIy2yx8dFROX"
      }
    },
    {
      "cell_type": "code",
      "source": [
        "import os\n",
        "\n",
        "def fetch_monthly_data(kite, instrument_token, year, output_csv_path):\n",
        "\n",
        "    all_data = []\n",
        "\n",
        "    # Loop through each month\n",
        "    for month in range(1, 13):\n",
        "        start_date = datetime(year, month, 1)\n",
        "\n",
        "        # Calculate the end date of the month\n",
        "        next_month = start_date + timedelta(days=32)\n",
        "        end_date = datetime(next_month.year, next_month.month, 1) - timedelta(days=1)\n",
        "\n",
        "        # Ensure end_date does not exceed today's date\n",
        "        today = datetime.now()\n",
        "        if end_date > today:\n",
        "            end_date = today - timedelta(days=1)\n",
        "\n",
        "        print(f\"Fetching data from {start_date.date()} to {end_date.date()}...\")\n",
        "\n",
        "        try:\n",
        "            # Fetch historical data for the current month\n",
        "            monthly_data = kite.historical_data(\n",
        "                instrument_token=instrument_token,\n",
        "                from_date=start_date.strftime(\"%Y-%m-%d\"),\n",
        "                to_date=end_date.strftime(\"%Y-%m-%d\"),\n",
        "                interval=\"minute\"\n",
        "            )\n",
        "\n",
        "            # Convert to DataFrame and add to the list\n",
        "            monthly_df = pd.DataFrame(monthly_data)\n",
        "            print(\"Columns in monthly_df:\", monthly_df.columns)\n",
        "            monthly_df['date'] = pd.to_datetime(monthly_df['date'])\n",
        "            monthly_df.set_index('date', inplace=True)\n",
        "\n",
        "            # Use lowercase column names for OHLC\n",
        "            monthly_df = monthly_df[['open', 'high', 'low', 'close']]\n",
        "            all_data.append(monthly_df)\n",
        "\n",
        "            print(f\"Fetched {len(monthly_df)} rows for {start_date.strftime('%B %Y')}.\")\n",
        "        except Exception as e:\n",
        "            print(f\"Error fetching data for {start_date.strftime('%B %Y')}: {e}\")\n",
        "\n",
        "        # Break the loop if we reach today's date\n",
        "        if end_date >= today:\n",
        "            break\n",
        "\n",
        "    # Combine all monthly data\n",
        "    if all_data:\n",
        "        combined_data = pd.concat(all_data)\n",
        "\n",
        "        # Save the combined data to CSV\n",
        "        combined_data.to_csv(output_csv_path)\n",
        "        print(f\"Data saved to {output_csv_path}.\")\n",
        "    else:\n",
        "        print(\"No data fetched.\")\n",
        "\n",
        "# Path to save the CSV in Google Drive\n",
        "output_csv_path = \"/content/drive/My Drive/nifty50_1min_data_2024.csv\"\n",
        "\n",
        "# Fetch the data for 2024 and save to Google Drive\n",
        "fetch_monthly_data(kite, nifty50_token, year=2024, output_csv_path=output_csv_path)\n"
      ],
      "metadata": {
        "colab": {
          "base_uri": "https://localhost:8080/"
        },
        "id": "Z3mN7plhJ8CO",
        "outputId": "ab5af198-bf22-4952-bf04-67a5b45d616c"
      },
      "execution_count": 22,
      "outputs": [
        {
          "output_type": "stream",
          "name": "stdout",
          "text": [
            "Fetching data from 2024-01-01 to 2024-01-31...\n",
            "Columns in monthly_df: Index(['date', 'open', 'high', 'low', 'close', 'volume'], dtype='object')\n",
            "Fetched 8250 rows for January 2024.\n",
            "Fetching data from 2024-02-01 to 2024-02-29...\n",
            "Columns in monthly_df: Index(['date', 'open', 'high', 'low', 'close', 'volume'], dtype='object')\n",
            "Fetched 7875 rows for February 2024.\n",
            "Fetching data from 2024-03-01 to 2024-03-31...\n",
            "Columns in monthly_df: Index(['date', 'open', 'high', 'low', 'close', 'volume'], dtype='object')\n",
            "Fetched 6855 rows for March 2024.\n",
            "Fetching data from 2024-04-01 to 2024-04-30...\n",
            "Columns in monthly_df: Index(['date', 'open', 'high', 'low', 'close', 'volume'], dtype='object')\n",
            "Fetched 7494 rows for April 2024.\n",
            "Fetching data from 2024-05-01 to 2024-05-31...\n",
            "Columns in monthly_df: Index(['date', 'open', 'high', 'low', 'close', 'volume'], dtype='object')\n",
            "Fetched 7980 rows for May 2024.\n",
            "Fetching data from 2024-06-01 to 2024-06-30...\n",
            "Columns in monthly_df: Index(['date', 'open', 'high', 'low', 'close', 'volume'], dtype='object')\n",
            "Fetched 7125 rows for June 2024.\n",
            "Fetching data from 2024-07-01 to 2024-07-31...\n",
            "Columns in monthly_df: Index(['date', 'open', 'high', 'low', 'close', 'volume'], dtype='object')\n",
            "Fetched 8250 rows for July 2024.\n",
            "Fetching data from 2024-08-01 to 2024-08-31...\n",
            "Columns in monthly_df: Index(['date', 'open', 'high', 'low', 'close', 'volume'], dtype='object')\n",
            "Fetched 7875 rows for August 2024.\n",
            "Fetching data from 2024-09-01 to 2024-09-30...\n",
            "Columns in monthly_df: Index(['date', 'open', 'high', 'low', 'close', 'volume'], dtype='object')\n",
            "Fetched 7875 rows for September 2024.\n",
            "Fetching data from 2024-10-01 to 2024-10-31...\n",
            "Columns in monthly_df: Index(['date', 'open', 'high', 'low', 'close', 'volume'], dtype='object')\n",
            "Fetched 8250 rows for October 2024.\n",
            "Fetching data from 2024-11-01 to 2024-11-30...\n",
            "Columns in monthly_df: Index(['date', 'open', 'high', 'low', 'close', 'volume'], dtype='object')\n",
            "Fetched 6810 rows for November 2024.\n",
            "Fetching data from 2024-12-01 to 2024-12-26...\n",
            "Columns in monthly_df: Index(['date', 'open', 'high', 'low', 'close', 'volume'], dtype='object')\n",
            "Fetched 6750 rows for December 2024.\n",
            "Data saved to /content/drive/My Drive/nifty50_1min_data_2024.csv.\n"
          ]
        }
      ]
    },
    {
      "cell_type": "markdown",
      "source": [
        "Prev close & Prev open"
      ],
      "metadata": {
        "id": "HUk5Mce3UJhH"
      }
    },
    {
      "cell_type": "code",
      "source": [
        "def add_prev_close_column(file_path):\n",
        "\n",
        "    # Load the existing CSV\n",
        "    df = pd.read_csv(file_path)\n",
        "\n",
        "    # Add 'prev_close' column\n",
        "    df['prev_close'] = df['high'].shift(1)\n",
        "    df.loc[0,'prev_close'] = df.loc[0,'high']\n",
        "\n",
        "    # Save back to the same file\n",
        "    df.to_csv(file_path, index=False)\n",
        "    print(f\"'prev_close' column added successfully and saved to {file_path}.\")\n",
        "\n",
        "def add_prev_open_column(file_path):\n",
        "\n",
        "    # Load the existing CSV\n",
        "    df = pd.read_csv(file_path)\n",
        "\n",
        "    # Add 'prev_open' column\n",
        "    df['prev_open'] = df['open'].shift(1)\n",
        "    df.loc[0,'prev_open'] = df.loc[0,'open']\n",
        "\n",
        "    # Save back to the same file\n",
        "    df.to_csv(file_path, index=False)\n",
        "    print(f\"'prev_open' column added successfully and saved to {file_path}.\")\n",
        "\n",
        "#Path to the Existing CSV in Google Drive\n",
        "file_path = \"/content/drive/My Drive/nifty50_1min_data_2024.csv\"\n",
        "\n",
        "#Add 'prev_close' and 'prev_open' Columns\n",
        "add_prev_close_column(file_path)\n",
        "add_prev_open_column(file_path)\n"
      ],
      "metadata": {
        "colab": {
          "base_uri": "https://localhost:8080/"
        },
        "id": "kB4F0PUrUReD",
        "outputId": "a7040e88-84db-42be-f50a-8d4784eff247"
      },
      "execution_count": 87,
      "outputs": [
        {
          "output_type": "stream",
          "name": "stdout",
          "text": [
            "'prev_close' column added successfully and saved to /content/drive/My Drive/nifty50_1min_data_2024.csv.\n",
            "'prev_open' column added successfully and saved to /content/drive/My Drive/nifty50_1min_data_2024.csv.\n"
          ]
        }
      ]
    },
    {
      "cell_type": "markdown",
      "source": [
        "below prev count"
      ],
      "metadata": {
        "id": "J3z99T1jbZHa"
      }
    },
    {
      "cell_type": "code",
      "source": [
        "def add_below_prev_count_column(file_path):\n",
        "\n",
        "    df = pd.read_csv(file_path)\n",
        "\n",
        "\n",
        "    if 'prev_close' not in df.columns:\n",
        "        raise ValueError(\"The 'prev_close' column is missing. Please add it before running this function.\")\n",
        "\n",
        "\n",
        "    below_prev_count = []\n",
        "    count = 0\n",
        "\n",
        "    for i in range(len(df)):\n",
        "        if i == 0:\n",
        "\n",
        "            below_prev_count.append(0)\n",
        "        else:\n",
        "            if df['high'].iloc[i] < df['prev_close'].iloc[i]:\n",
        "                count += 1\n",
        "            else:\n",
        "                count = 0\n",
        "            below_prev_count.append(count)\n",
        "\n",
        "\n",
        "    df['below_prev_count'] = below_prev_count\n",
        "\n",
        "\n",
        "    df.to_csv(file_path, index=False)\n",
        "    print(f\"'below_prev_count' column added successfully and saved to {file_path}.\")\n",
        "add_below_prev_count_column(file_path)\n"
      ],
      "metadata": {
        "colab": {
          "base_uri": "https://localhost:8080/"
        },
        "id": "xJuyncjmbbdu",
        "outputId": "cb449634-7f74-4fd7-d218-3095afc7e311"
      },
      "execution_count": 89,
      "outputs": [
        {
          "output_type": "stream",
          "name": "stdout",
          "text": [
            "'below_prev_count' column added successfully and saved to /content/drive/My Drive/nifty50_1min_data_2024.csv.\n"
          ]
        }
      ]
    },
    {
      "cell_type": "markdown",
      "source": [
        "5WMA"
      ],
      "metadata": {
        "id": "hJr7DaGUn6iU"
      }
    },
    {
      "cell_type": "code",
      "source": [
        "def add_5wma_column(file_path):\n",
        "\n",
        "\n",
        "    df = pd.read_csv(file_path)\n",
        "\n",
        "\n",
        "    if 'close' not in df.columns:\n",
        "        raise ValueError(\"The 'close' column is missing. Please add it before running this function.\")\n",
        "\n",
        "    # Calculate 5WMA\n",
        "    def calculate_5wma(series):\n",
        "        weights = np.arange(1, 6)\n",
        "        return np.dot(series, weights) / weights.sum()\n",
        "\n",
        "    df['5wma'] = df['close'].rolling(window=5).apply(calculate_5wma, raw=True)\n",
        "\n",
        "    # Fill the first 4 rows with 5EMA\n",
        "    df['5ema'] = df['close'].ewm(span=5, adjust=False).mean()\n",
        "    df.loc[:4, '5wma'] = df.loc[:4, '5ema']\n",
        "\n",
        "\n",
        "    df.drop(columns=['5ema'], inplace=True)\n",
        "\n",
        "\n",
        "    df.to_csv(file_path, index=False)\n",
        "    print(f\"'5wma' column added successfully and saved to {file_path}.\")\n",
        "\n",
        "add_5wma_column(file_path)"
      ],
      "metadata": {
        "colab": {
          "base_uri": "https://localhost:8080/"
        },
        "id": "34Pl3qawn8ri",
        "outputId": "90930f26-3690-4237-a80e-ad5f1f7fd97c"
      },
      "execution_count": 90,
      "outputs": [
        {
          "output_type": "stream",
          "name": "stdout",
          "text": [
            "'5wma' column added successfully and saved to /content/drive/My Drive/nifty50_1min_data_2024.csv.\n"
          ]
        }
      ]
    },
    {
      "cell_type": "markdown",
      "source": [
        "Fill nan cols"
      ],
      "metadata": {
        "id": "OmphptV-pxPY"
      }
    },
    {
      "cell_type": "code",
      "source": [
        "def fill_nan_with_previous(file_path):\n",
        "\n",
        "    df = pd.read_csv(file_path)\n",
        "\n",
        "\n",
        "    df.ffill(inplace=True)\n",
        "\n",
        "\n",
        "    df.to_csv(file_path, index=False)\n",
        "    print(f\"NaN values filled with the value above and saved to {file_path}.\")\n",
        "\n",
        "fill_nan_with_previous(file_path)"
      ],
      "metadata": {
        "colab": {
          "base_uri": "https://localhost:8080/"
        },
        "id": "uLxDjI_zpzXg",
        "outputId": "7120b653-db56-43fc-f5e5-191c73eaa4ef"
      },
      "execution_count": 91,
      "outputs": [
        {
          "output_type": "stream",
          "name": "stdout",
          "text": [
            "NaN values filled with the value above and saved to /content/drive/My Drive/nifty50_1min_data_2024.csv.\n"
          ]
        }
      ]
    },
    {
      "cell_type": "markdown",
      "source": [
        "Backtest Strategy and results"
      ],
      "metadata": {
        "id": "sMk2Qkboqa3b"
      }
    },
    {
      "cell_type": "code",
      "source": [
        "def backtest_strategy(file_path):\n",
        "\n",
        "    df = pd.read_csv(file_path)\n",
        "\n",
        "\n",
        "    required_columns = ['close', 'open', 'low', 'high', 'below_prev_count', '5wma']\n",
        "    for col in required_columns:\n",
        "        if col not in df.columns:\n",
        "            raise ValueError(f\"The required column '{col}' is missing from the dataset.\")\n",
        "\n",
        "\n",
        "    position_open = False\n",
        "    total_profit = 0\n",
        "    total_win_trades = 0\n",
        "    total_loss_trades = 0\n",
        "    trade_log = []  # To keep track of individual trade results\n",
        "\n",
        "\n",
        "    for i in range(1, len(df) - 1):\n",
        "        if not position_open:\n",
        "            # Check for alert candle\n",
        "            if (\n",
        "                df['below_prev_count'].iloc[i] == 2 and\n",
        "                df['high'].iloc[i] > df['5wma'].iloc[i]\n",
        "\n",
        "            ):\n",
        "                # Trade parameters\n",
        "                trigger_price = df['open'].iloc[i + 1]  # Next candle open price\n",
        "                target = trigger_price + 8 # Target price\n",
        "                stop_loss = df['low'].iloc[i]  # Stop-loss is low of alert candle\n",
        "                position_open = True\n",
        "                trade_log.append({\n",
        "                    \"entry_price\": trigger_price,\n",
        "                    \"stop_loss\": stop_loss,\n",
        "                    \"target\": target,\n",
        "                    \"result\": None,\n",
        "                })\n",
        "\n",
        "        elif position_open:\n",
        "            # Check trigger candle for exit conditions\n",
        "            trigger_high = df['high'].iloc[i]\n",
        "            trigger_low = df['low'].iloc[i]\n",
        "\n",
        "            if trigger_high >= trade_log[-1]['target']:\n",
        "                # Target hit\n",
        "                profit = trade_log[-1]['target'] - trade_log[-1]['entry_price']\n",
        "                total_profit += profit\n",
        "                total_win_trades += 1\n",
        "                trade_log[-1]['result'] = 'win'\n",
        "                trade_log[-1]['exit_price'] = trade_log[-1]['target']\n",
        "                position_open = False\n",
        "\n",
        "            elif trigger_low <= trade_log[-1]['stop_loss']:\n",
        "                # Stop-loss hit\n",
        "                loss = trade_log[-1]['entry_price'] - trade_log[-1]['stop_loss']\n",
        "                total_profit -= loss\n",
        "                total_loss_trades += 1\n",
        "                trade_log[-1]['result'] = 'loss'\n",
        "                trade_log[-1]['exit_price'] = trade_log[-1]['stop_loss']\n",
        "                position_open = False\n",
        "\n",
        "    # Calculate metrics\n",
        "    total_trades = total_win_trades + total_loss_trades\n",
        "    accuracy = (total_win_trades / total_trades) * 100 if total_trades > 0 else 0\n",
        "\n",
        "    # Return results\n",
        "    return {\n",
        "        \"total_profit\": total_profit,\n",
        "        \"total_win_trades\": total_win_trades,\n",
        "        \"total_loss_trades\": total_loss_trades,\n",
        "        \"accuracy\": accuracy,\n",
        "        \"trade_log\": trade_log,  # Optional: detailed trade log\n",
        "    }\n",
        "\n",
        "\n",
        "file_path = \"/content/drive/My Drive/nifty50_1min_data_2024.csv\"\n",
        "results = backtest_strategy(file_path)\n",
        "\n",
        "# Print results\n",
        "print(f\"Total Profit: {results['total_profit']}\")\n",
        "print(f\"Total Win Trades: {results['total_win_trades']}\")\n",
        "print(f\"Total Loss Trades: {results['total_loss_trades']}\")\n",
        "print(f\"Accuracy: {results['accuracy']:.2f}%\")\n"
      ],
      "metadata": {
        "colab": {
          "base_uri": "https://localhost:8080/"
        },
        "id": "CtUJdo0Pqf9z",
        "outputId": "f63b2fe4-b474-4f6b-84e1-e6f961c8ed0f"
      },
      "execution_count": 7,
      "outputs": [
        {
          "output_type": "stream",
          "name": "stdout",
          "text": [
            "Total Profit: 6575.300000000196\n",
            "Total Win Trades: 2940\n",
            "Total Loss Trades: 6111\n",
            "Accuracy: 32.48%\n"
          ]
        }
      ]
    }
  ]
}